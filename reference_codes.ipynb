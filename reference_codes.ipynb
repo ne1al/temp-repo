{
  "nbformat": 4,
  "nbformat_minor": 0,
  "metadata": {
    "colab": {
      "name": "reference_codes",
      "provenance": [],
      "collapsed_sections": [],
      "toc_visible": true,
      "include_colab_link": true
    },
    "kernelspec": {
      "name": "python3",
      "display_name": "Python 3"
    }
  },
  "cells": [
    {
      "cell_type": "markdown",
      "metadata": {
        "id": "view-in-github",
        "colab_type": "text"
      },
      "source": [
        "<a href=\"https://colab.research.google.com/github/ne1al/temp-repo/blob/master/reference_codes.ipynb\" target=\"_parent\"><img src=\"https://colab.research.google.com/assets/colab-badge.svg\" alt=\"Open In Colab\"/></a>"
      ]
    },
    {
      "cell_type": "markdown",
      "metadata": {
        "id": "eBTuLsYoIofK"
      },
      "source": [
        "# General Commands"
      ]
    },
    {
      "cell_type": "code",
      "metadata": {
        "id": "wZJRi0uDA56r"
      },
      "source": [
        "#order files and directories so that most recently changed file is listed last in human readable format with all files displayed\n",
        "ls -tralh"
      ],
      "execution_count": null,
      "outputs": []
    },
    {
      "cell_type": "code",
      "metadata": {
        "id": "S9CkAvi1A_tX"
      },
      "source": [
        "#to return to the previous directory\n",
        "cd -"
      ],
      "execution_count": null,
      "outputs": []
    },
    {
      "cell_type": "code",
      "metadata": {
        "id": "DAJd5sDRItps"
      },
      "source": [
        "#download files not using wget (zsh)\n",
        "curl url -o outputfilename"
      ],
      "execution_count": null,
      "outputs": []
    },
    {
      "cell_type": "code",
      "metadata": {
        "id": "gA8J62_uBa18"
      },
      "source": [
        "#to know the storage space in local pc\n",
        "df -h"
      ],
      "execution_count": null,
      "outputs": []
    },
    {
      "cell_type": "code",
      "metadata": {
        "id": "EsIFfZ2n_RjD"
      },
      "source": [
        "#retrieve command history\n",
        "#ctrl+r on terminal and keep pressing ctrl+r till I reach the command I am looking for"
      ],
      "execution_count": null,
      "outputs": []
    },
    {
      "cell_type": "code",
      "metadata": {
        "id": "GPij1DAGBw7G"
      },
      "source": [
        "#find a file (case insensitive)\n",
        "find / -iname legacy_blast.pl"
      ],
      "execution_count": null,
      "outputs": []
    },
    {
      "cell_type": "code",
      "metadata": {
        "id": "1SvVqi-gB4NR"
      },
      "source": [
        "#change persmissions of a directory\n",
        "chmod -R 777 /path"
      ],
      "execution_count": null,
      "outputs": []
    },
    {
      "cell_type": "code",
      "metadata": {
        "id": "rVu26lywB_po"
      },
      "source": [
        "#unzip \n",
        "tar -xzvf Silva.nr_v132.tgz"
      ],
      "execution_count": null,
      "outputs": []
    },
    {
      "cell_type": "markdown",
      "metadata": {
        "id": "66TY7U8zbH3z"
      },
      "source": [
        "# Conda Environment Commands\n"
      ]
    },
    {
      "cell_type": "code",
      "metadata": {
        "id": "KFFI-Vz3g4o4"
      },
      "source": [
        "#create conda environment, better create a separate environment for qiime\n",
        "conda create --name qiime"
      ],
      "execution_count": null,
      "outputs": []
    },
    {
      "cell_type": "code",
      "metadata": {
        "id": "VOFFk0iRENrL"
      },
      "source": [
        "#remove conda environment\n",
        "conda deactivate\n",
        "conda env remove -n qiime"
      ],
      "execution_count": null,
      "outputs": []
    },
    {
      "cell_type": "code",
      "metadata": {
        "id": "Miqu_eIrjOOW"
      },
      "source": [
        "#Deactivate the current environment \n",
        "conda deactivate #don't write environment name"
      ],
      "execution_count": null,
      "outputs": []
    },
    {
      "cell_type": "code",
      "metadata": {
        "id": "F8m49ZyQ_c-P"
      },
      "source": [
        "#set up a tool from a downloaded file on a new conda environment\n",
        "conda env create -n qiime2-2019.10 --file qiime2-2019.10-py36-linux-conda.yml"
      ],
      "execution_count": null,
      "outputs": []
    },
    {
      "cell_type": "code",
      "metadata": {
        "id": "aCXF_55pigeW"
      },
      "source": [
        "#Get a list of all my environments, active environment is shown with *\n",
        "conda env list"
      ],
      "execution_count": null,
      "outputs": []
    },
    {
      "cell_type": "code",
      "metadata": {
        "id": "4dI_jQ-9b-wJ"
      },
      "source": [
        "#to know packages installed on conda environment\n",
        "conda list -n myenvi\n",
        "conda list"
      ],
      "execution_count": null,
      "outputs": []
    },
    {
      "cell_type": "code",
      "metadata": {
        "id": "zhl82CT3K0Ap"
      },
      "source": [
        "#download SRA toolkit\n",
        "conda install -c bioconda sra-tools\n",
        "conda update sra-tools "
      ],
      "execution_count": null,
      "outputs": []
    },
    {
      "cell_type": "markdown",
      "metadata": {
        "id": "6nED8MaOa-vK"
      },
      "source": [
        "# File Manipulation (Bash)\n"
      ]
    },
    {
      "cell_type": "code",
      "metadata": {
        "id": "9ySXzRd5KlhJ"
      },
      "source": [
        "#more information on an option (switch,flag)\n",
        "ls --help\n",
        "man ls"
      ],
      "execution_count": null,
      "outputs": []
    },
    {
      "cell_type": "code",
      "metadata": {
        "id": "B2eTd7WeoKDi"
      },
      "source": [
        "#to know the version of a tool or programming lanuage\n",
        "perl -version\n",
        "bedtools -version"
      ],
      "execution_count": null,
      "outputs": []
    },
    {
      "cell_type": "code",
      "metadata": {
        "id": "9wqyk5sOfABY"
      },
      "source": [
        "#command to count files in a directory\n",
        "ls -l | wc -l\n",
        "ls *.filtered.fasta | wc -l"
      ],
      "execution_count": null,
      "outputs": []
    },
    {
      "cell_type": "code",
      "metadata": {
        "id": "ckOzSJnvfHyx"
      },
      "source": [
        "#remove a directory with write-protected regular files\n",
        "rm -fr <directory_name>"
      ],
      "execution_count": null,
      "outputs": []
    },
    {
      "cell_type": "code",
      "metadata": {
        "id": "DDmfQ2QF6Mhv"
      },
      "source": [
        "#going up in the hierarchy two levels\n",
        "cd ../.."
      ],
      "execution_count": null,
      "outputs": []
    },
    {
      "cell_type": "code",
      "metadata": {
        "id": "YZ6-OMMqGCtu"
      },
      "source": [
        "#to know the storage space in local pc\n",
        "df -h"
      ],
      "execution_count": null,
      "outputs": []
    },
    {
      "cell_type": "code",
      "metadata": {
        "id": "kxWaU729KTJS"
      },
      "source": [
        "#display size of files and directories\n",
        "ls -s"
      ],
      "execution_count": null,
      "outputs": []
    },
    {
      "cell_type": "code",
      "metadata": {
        "id": "hv_jSP8md-bV"
      },
      "source": [
        "#join files in parallel\n",
        "paste [OPTION]... [FILES]..."
      ],
      "execution_count": null,
      "outputs": []
    },
    {
      "cell_type": "code",
      "metadata": {
        "id": "HrYE3ytDKd3W"
      },
      "source": [
        "#order files and directories by size\n",
        "ls -S"
      ],
      "execution_count": null,
      "outputs": []
    },
    {
      "cell_type": "code",
      "metadata": {
        "id": "doPcPo0zKCSW"
      },
      "source": [
        "#view directories in the root directory\n",
        "ls -F /"
      ],
      "execution_count": null,
      "outputs": []
    },
    {
      "cell_type": "code",
      "metadata": {
        "id": "NTepwH2xJABL"
      },
      "source": [
        "#view types of files or directories\n",
        "ls -F"
      ],
      "execution_count": null,
      "outputs": []
    },
    {
      "cell_type": "code",
      "metadata": {
        "id": "QE3ge-svJSWC"
      },
      "source": [
        "#change persmissions of a directory\n",
        "chmod -R 777 /path"
      ],
      "execution_count": null,
      "outputs": []
    },
    {
      "cell_type": "code",
      "metadata": {
        "id": "xXJxTsH8h4ne"
      },
      "source": [
        "#remove a directory with write-protected regular files\n",
        "rm -fr <directory_name>"
      ],
      "execution_count": null,
      "outputs": []
    },
    {
      "cell_type": "code",
      "metadata": {
        "id": "-ra0sDo2ZBAA"
      },
      "source": [
        "#unzip \n",
        "tar -xzvf Silva.nr_v132.tgz"
      ],
      "execution_count": null,
      "outputs": []
    },
    {
      "cell_type": "code",
      "metadata": {
        "id": "l8xb_CgNcK7M"
      },
      "source": [
        "#zip a file to gz\n",
        "gzip filename"
      ],
      "execution_count": null,
      "outputs": []
    },
    {
      "cell_type": "code",
      "metadata": {
        "id": "1yJZMF1PeVzO"
      },
      "source": [
        "#view content of zipped file\n",
        "zless filename.gz"
      ],
      "execution_count": null,
      "outputs": []
    },
    {
      "cell_type": "code",
      "metadata": {
        "id": "PvBDkLAKg7yb"
      },
      "source": [
        "#view a gzipped file without unzipping\n",
        "zcat file.gz | view"
      ],
      "execution_count": null,
      "outputs": []
    },
    {
      "cell_type": "code",
      "metadata": {
        "id": "qgzrepgwHRR6"
      },
      "source": [
        "#rename a file\n",
        "mv stability.files example.files"
      ],
      "execution_count": null,
      "outputs": []
    },
    {
      "cell_type": "code",
      "metadata": {
        "id": "EMtMHDKESb4G"
      },
      "source": [
        "#copying a file\n",
        "sel_normal.merged.filtered.good.unique.filter.precluster.pick.dist\n",
        "sel_normal.merged.filtered.good.unique.filter.precluster.pick.count_table\n",
        " cp SOURCE DEST\n",
        "cp /data3/nehal/skin_micro/sel_normal/sel_normal.merged.filtered.good.names ."
      ],
      "execution_count": null,
      "outputs": []
    },
    {
      "cell_type": "code",
      "metadata": {
        "id": "bP1H7kL_cD0y"
      },
      "source": [
        "#find a file (case insensitive)\n",
        "find / -iname legacy_blast.pl"
      ],
      "execution_count": null,
      "outputs": []
    },
    {
      "cell_type": "code",
      "metadata": {
        "id": "nKnB2eqHNI_8"
      },
      "source": [
        "#to search for a certain word in a file or manual\n",
        "/word\n",
        "#to move between search words\n",
        "N or shift+N"
      ],
      "execution_count": null,
      "outputs": []
    },
    {
      "cell_type": "code",
      "metadata": {
        "id": "UVDzNCTm0Qk2"
      },
      "source": [
        "#command to count files in a directory\n",
        "ls -l | wc -l\n",
        "ls *.filtered.fasta | wc -l"
      ],
      "execution_count": null,
      "outputs": []
    },
    {
      "cell_type": "code",
      "metadata": {
        "id": "hEjpCCl56Tf_"
      },
      "source": [
        "#create empty text file\n",
        "touch myfile.txt"
      ],
      "execution_count": null,
      "outputs": []
    },
    {
      "cell_type": "code",
      "metadata": {
        "id": "_pZ9aYyYCdKP"
      },
      "source": [
        "#rename a file with interactive option for confirmation before overwriting\n",
        "mv -i oldname newname"
      ],
      "execution_count": null,
      "outputs": []
    },
    {
      "cell_type": "code",
      "metadata": {
        "id": "AQnK7GqMoW25"
      },
      "source": [
        "#copying directories\n",
        "cp -r olddirectory newdirectory"
      ],
      "execution_count": null,
      "outputs": []
    },
    {
      "cell_type": "code",
      "metadata": {
        "id": "2dFg7gV3rSYe"
      },
      "source": [
        "#copying multiple files to a directory\n",
        "cp file1.txt file2.txt file3.txt directoryname/"
      ],
      "execution_count": null,
      "outputs": []
    },
    {
      "cell_type": "code",
      "metadata": {
        "id": "EL59MCBsq1Tg"
      },
      "source": [
        "#remove safely, asks for confirmation with y or n\n",
        "rm -i fule.txt"
      ],
      "execution_count": null,
      "outputs": []
    },
    {
      "cell_type": "code",
      "metadata": {
        "id": "DOlaxLDNrRWa"
      },
      "source": [
        "#creating many directories at once, all at the same level\n",
        "mkdir folder1 folder2 folder3"
      ],
      "execution_count": null,
      "outputs": []
    },
    {
      "cell_type": "code",
      "metadata": {
        "id": "BkPqYYcNxo8E"
      },
      "source": [
        "#count number of lines, words, characters in a file\n",
        "wc file1.txt\n",
        "wc *.txt\n",
        "wc -l file1.txt (#shows only number of lines)\n",
        "wc -w file1.txt (#shows only number of words)\n",
        "wc -m file1.txt (#shows only number of characters)"
      ],
      "execution_count": null,
      "outputs": []
    },
    {
      "cell_type": "code",
      "metadata": {
        "id": "3mag6wa4xzRV"
      },
      "source": [
        "#show the content of a file on the screen\n",
        "cat file1.txt"
      ],
      "execution_count": null,
      "outputs": []
    },
    {
      "cell_type": "code",
      "metadata": {
        "id": "voUOWvID6jMa"
      },
      "source": [
        "#sort content of file, only displayed in the screen i.e doesn't change the file itself\n",
        "sort file1.txt (#alphanumeric)\n",
        "sort -n file1.txt (#numeric)\n",
        "sort -n linenumbersfile.txt (#arrange number of lines of multiple files numerically)"
      ],
      "execution_count": null,
      "outputs": []
    },
    {
      "cell_type": "code",
      "metadata": {
        "id": "m-p7zfPu7Ss6"
      },
      "source": [
        "#show certain number of lines in a file on the screen\n",
        "head -n 1 file1.txt (#shows first line in the file)\n",
        "head -n 2 file1.txt (#shows first two lines)\n",
        "head -n 3 file1.txt (#shows first three lines)"
      ],
      "execution_count": null,
      "outputs": []
    },
    {
      "cell_type": "code",
      "metadata": {
        "id": "-NGy9-Fc9Fqf"
      },
      "source": [
        "#adding strings to a file\n",
        "echo hello > file1.txt (#repeating the same command will overwrite on the file)\n",
        "echo hello >> file2.txt (#repeating same command will ADD to the first string)"
      ],
      "execution_count": null,
      "outputs": []
    },
    {
      "cell_type": "code",
      "metadata": {
        "id": "qnUpxxXtd7Tl"
      },
      "source": [
        "#remove certain sections of each line in a file, where -d is delimiter, -f part to cut\n",
        "cut -d , -f 2 file1.txt"
      ],
      "execution_count": null,
      "outputs": []
    },
    {
      "cell_type": "code",
      "metadata": {
        "id": "else6cApkjZa"
      },
      "source": [
        "#filter *adjacent* matching lines, duplicates should be adjacent, this is why we should sort files first\n",
        "sort file1.txt | uniq\n",
        "#count the frequency of each line, duplicates included\n",
        "sort file1.txt | uniq -c"
      ],
      "execution_count": null,
      "outputs": []
    },
    {
      "cell_type": "code",
      "metadata": {
        "id": "8kQ6E6q-k9JN"
      },
      "source": [
        "#to qc my files before starting analysis\n",
        "wc -l *.txt | sort -n | head -n 5\n",
        "wc -l *.txt | sort -n | tail -n 5"
      ],
      "execution_count": null,
      "outputs": []
    },
    {
      "cell_type": "code",
      "metadata": {
        "id": "fnqN-0LZsXBd"
      },
      "source": [
        "#choose certain characters for wild card\n",
        "ls *[AB]file1.txt"
      ],
      "execution_count": null,
      "outputs": []
    },
    {
      "cell_type": "code",
      "metadata": {
        "id": "mt62Nz4gEbIV"
      },
      "source": [
        "#extract file sizes into csv file (mac zsh)\n",
        "zmodload -F zsh/stat b:zstat\n",
        "zstat -L -A data -n +size ./**/*(D.)\n",
        "for name size in $data; do\n",
        "    printf '%s\\t%s\\n' $size $name\n",
        "done >outfile.csv"
      ],
      "execution_count": null,
      "outputs": []
    },
    {
      "cell_type": "markdown",
      "metadata": {
        "id": "tOQ0ySzvagtV"
      },
      "source": [
        "#Transferring files from/to remote servers"
      ]
    },
    {
      "cell_type": "code",
      "metadata": {
        "id": "XIIoUiMgVQDc"
      },
      "source": [
        "#transfering files from local PC to remote server\n",
        "#open terminal in the local directory where the desired files are present\n",
        "scp selected_SRA_Acc.txt nehal@10.7.28.10:/data3/nehal/skin_micro/sel_normal\n",
        "scp IntroductionToBio-Linux8_Dec2015.pdf nehal@10.7.28.10:/home/nehal/work"
      ],
      "execution_count": null,
      "outputs": []
    },
    {
      "cell_type": "code",
      "metadata": {
        "id": "wWRpnYi15uwu"
      },
      "source": [
        "#transferring files from remote server to local\n",
        "#open terminal in the local directory where I want the files to be downloaded\n",
        "scp nehal@10.7.28.10:/data3/nehal/skin_micro/sel_normal/sel_normal.merged.filtered.good.unique.filter.precluster.count_table ."
      ],
      "execution_count": null,
      "outputs": []
    },
    {
      "cell_type": "code",
      "metadata": {
        "id": "jXW40Agsiaf-"
      },
      "source": [
        "#pulling a docker image\n",
        "(sudo) docker pull imagename"
      ],
      "execution_count": null,
      "outputs": []
    },
    {
      "cell_type": "markdown",
      "metadata": {
        "id": "UEB92Cd3cOF8"
      },
      "source": [
        "# Analysis\n",
        "FASTA and FASTQ Files\n"
      ]
    },
    {
      "cell_type": "code",
      "metadata": {
        "id": "Jf-RcwwAx7zO"
      },
      "source": [
        "#counting sequences in fasta file\n",
        " grep -c '>' in.fasta"
      ],
      "execution_count": null,
      "outputs": []
    },
    {
      "cell_type": "markdown",
      "metadata": {
        "id": "kh5qB2rgc404"
      },
      "source": [
        "Loop"
      ]
    },
    {
      "cell_type": "code",
      "metadata": {
        "id": "qdwHuwLoMRaq"
      },
      "source": [
        "#wild card instead of for loop\n",
        "command --argument $(<list.txt)\n",
        "#here, the txt file is read as one line separated by spaces, however, in a for loop, each separated in a separate line\n",
        "#for loop\n",
        "for acc in `cat accessions.txt` ; do   echo  ${acc}.fastq -o ~/results/${acc}_trimm     ; done"
      ],
      "execution_count": null,
      "outputs": []
    },
    {
      "cell_type": "code",
      "metadata": {
        "id": "gB0ArxwNsGhZ"
      },
      "source": [
        "#to be copy paste from\n",
        "for acc in `cat accessions.txt` ; do   echo  ${acc}.fastq -o ~/results/${acc}_trimm     ; done"
      ],
      "execution_count": null,
      "outputs": []
    },
    {
      "cell_type": "markdown",
      "metadata": {
        "id": "zZi2wp_vdWrZ"
      },
      "source": [
        "# R Analysis\n"
      ]
    },
    {
      "cell_type": "code",
      "metadata": {
        "id": "SZCi9T2yufMA"
      },
      "source": [
        "#using tidyverse package to remove first row so second row can be names\n",
        "library(tidyverse)\n",
        "names(df) <- df %>% slice(1) %>% unlist()\n",
        "df <- df %>% slice(-1)"
      ],
      "execution_count": null,
      "outputs": []
    },
    {
      "cell_type": "code",
      "metadata": {
        "id": "kdeajXCubX5H"
      },
      "source": [
        "#making first column in a dataframe as row names\n",
        "result <- mydf[-1]\n",
        "row.names(result) <- mydf$target_id\n",
        "result"
      ],
      "execution_count": null,
      "outputs": []
    },
    {
      "cell_type": "code",
      "metadata": {
        "id": "cWPofwedDd2v"
      },
      "source": [
        "#remove an entire column of the dataframe\n",
        "Data$genome <- NULL"
      ],
      "execution_count": null,
      "outputs": []
    },
    {
      "cell_type": "code",
      "metadata": {
        "id": "ZUwcsxDRipkv"
      },
      "source": [
        "#to know type of dataframe/matrix\n",
        "typeof(df or matrix)\n",
        "class(dataframe/matrix)"
      ],
      "execution_count": null,
      "outputs": []
    },
    {
      "cell_type": "code",
      "metadata": {
        "id": "KvJqRFrKqDZ5"
      },
      "source": [
        "#For each row return the column name of the largest value, also applied on matrix\n",
        "colnames(DF)[apply(DF,1,which.max)]\n",
        "\n",
        "#For each column, return the row name of the largest value, also applied on matrix\n",
        "rownames(DF)[apply(DF,2,which.max)]\n",
        "\n"
      ],
      "execution_count": null,
      "outputs": []
    },
    {
      "cell_type": "code",
      "metadata": {
        "id": "6AouByLlqeqw"
      },
      "source": [
        "#removing the rows that contain only zeros\n",
        "clean = DF[!apply(x == 0, 1, all), , drop = FALSE]\n"
      ],
      "execution_count": null,
      "outputs": []
    },
    {
      "cell_type": "code",
      "metadata": {
        "id": "vEBVG-lieHaR"
      },
      "source": [
        "#remove any row values with zero\n",
        "test = est_counts[ rowSums(est_counts > 0) >= 4, ] #where 4 is the number of columns of a dataframe"
      ],
      "execution_count": null,
      "outputs": []
    },
    {
      "cell_type": "code",
      "metadata": {
        "id": "nMgP3W8JeSea"
      },
      "source": [
        "#remove a variable\n",
        "rm(variable_name)"
      ],
      "execution_count": null,
      "outputs": []
    },
    {
      "cell_type": "code",
      "metadata": {
        "id": "DqfdxWRt17Rr"
      },
      "source": [
        "#selecting certain observtions in data frame (source:https://www.statmethods.net/management/subset.html)\n",
        "# first 5 observations\n",
        "newdata <- mydata[1:5,]\n",
        "\n",
        "# based on variable values\n",
        "newdata <- mydata[ which(mydata$gender=='F'\n",
        "& mydata$age > 65), ]\n",
        "\n",
        "# or\n",
        "attach(mydata)\n",
        "newdata <- mydata[ which(gender=='F' & age > 65),]\n",
        "detach(mydata)\n",
        "\n",
        "# using subset function (keeping only two columns, e.g ID and weight)\n",
        "newdata <- subset(mydata, age >= 20 | age < 10,\n",
        "select=c(ID, Weight))"
      ],
      "execution_count": null,
      "outputs": []
    },
    {
      "cell_type": "code",
      "metadata": {
        "id": "4q83jq8SiIPk"
      },
      "source": [
        "#subtracting two columns in a dataframe and saving it to new variable\n",
        "d = read.table(textConnection(lines), header=TRUE) \n",
        "d$new=d$end - d$start"
      ],
      "execution_count": null,
      "outputs": []
    },
    {
      "cell_type": "code",
      "metadata": {
        "id": "fmLLr_n82N4f"
      },
      "source": [
        "#subracting two column in a matrix\n",
        "variablename= matrixname[,\"B\"] - matrixname[,\"A\"]\n",
        "variablename=matrixname[,2] - matrixname[,1]"
      ],
      "execution_count": null,
      "outputs": []
    },
    {
      "cell_type": "code",
      "metadata": {
        "id": "ru-XiR5E2ouq"
      },
      "source": [
        "#exracting only certain columns from dataframe\n",
        "new_df <- Cars93[,c(\"MPG.highway\",\"EngineSize\")]"
      ],
      "execution_count": null,
      "outputs": []
    },
    {
      "cell_type": "code",
      "metadata": {
        "id": "-k5pXlk-asSe"
      },
      "source": [
        "#sort dataframe by absolute value of a certain column\n",
        "library(data.table)\n",
        "sorted = setDT(df)[order(-abs(similarity)), .SD, by = study]"
      ],
      "execution_count": null,
      "outputs": []
    }
  ]
}